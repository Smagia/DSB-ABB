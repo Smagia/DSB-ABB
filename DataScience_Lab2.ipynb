{
 "cells": [
  {
   "cell_type": "markdown",
   "id": "c6c13a65",
   "metadata": {},
   "source": [
    "# Lab 2"
   ]
  },
  {
   "cell_type": "markdown",
   "id": "0d218686",
   "metadata": {},
   "source": [
    "## The main question"
   ]
  },
  {
   "cell_type": "markdown",
   "id": "0e50bf3d",
   "metadata": {},
   "source": [
    "The datasets chosen for this laboratory project concern activated and terminated employment contracts in Lombardy. \n",
    "The goal is to get a prevision on the number of activated and terminated contracts based on parameters such date, educational qualification and geographical area. In this way it is possible to get an overwiew about the labour market based on the input data."
   ]
  },
  {
   "cell_type": "markdown",
   "id": "202a2b8c",
   "metadata": {},
   "source": [
    "## Imports"
   ]
  },
  {
   "cell_type": "code",
   "execution_count": 1,
   "id": "f1604cf2",
   "metadata": {
    "scrolled": true
   },
   "outputs": [],
   "source": [
    "import pandas as pd\n",
    "import seaborn as sb\n",
    "import matplotlib.pyplot as plt\n",
    "from sklearn import preprocessing\n",
    "from datetime import datetime"
   ]
  },
  {
   "cell_type": "markdown",
   "id": "bcac633d",
   "metadata": {},
   "source": [
    "## Datasets preprocessing"
   ]
  },
  {
   "cell_type": "markdown",
   "id": "9851300f",
   "metadata": {},
   "source": [
    "The considered datasets are available on the Lombardy Region website at the following links:\n",
    "\n",
    "[__Activated contracts__](https://www.dati.lombardia.it/Attivit-Produttive/Rapporti-di-lavoro-attivati/qbau-cyuc)\n",
    "\n",
    "[__Terminated contracts__](https://www.dati.lombardia.it/Attivit-Produttive/Rapporti-di-lavoro-cessati/nwz3-p6vm)"
   ]
  },
  {
   "cell_type": "markdown",
   "id": "8ebf016d",
   "metadata": {},
   "source": [
    "### Datasets overview"
   ]
  },
  {
   "cell_type": "code",
   "execution_count": 2,
   "id": "2d124a9a",
   "metadata": {
    "scrolled": false
   },
   "outputs": [],
   "source": [
    "start = datetime.timestamp(datetime.now())\n",
    "# Loading and showing the first dataset\n",
    "activated_work = pd.read_csv(\"Rapporti_di_lavoro_attivati.csv\")\n",
    "# Loading and showing the second dataset\n",
    "terminated_work = pd.read_csv(\"Rapporti_di_lavoro_cessati.csv\")\n",
    "stop = datetime.timestamp(datetime.now())\n",
    "activated_work.rename(columns={'ITALIANO':'NAZIONALITA'}, inplace=True)\n",
    "terminated_work.rename(columns={'ITALIANO':'NAZIONALITA'}, inplace=True)"
   ]
  },
  {
   "cell_type": "code",
   "execution_count": 3,
   "id": "20715553",
   "metadata": {},
   "outputs": [
    {
     "name": "stdout",
     "output_type": "stream",
     "text": [
      "Time required : 0.022028260946273803\n"
     ]
    }
   ],
   "source": [
    "print('Time required : '+str((stop - start)/1000))"
   ]
  },
  {
   "cell_type": "code",
   "execution_count": 4,
   "id": "09c442dc",
   "metadata": {},
   "outputs": [],
   "source": [
    "activated_work['TIPOLOGIA'] = 'ATTIVATO'\n",
    "terminated_work['TIPOLOGIA'] = 'TERMINATO'"
   ]
  },
  {
   "cell_type": "code",
   "execution_count": 5,
   "id": "b58cbe09",
   "metadata": {
    "scrolled": true
   },
   "outputs": [],
   "source": [
    "total = [activated_work, terminated_work]\n",
    "\n",
    "result = pd.concat(total)\n",
    "\n",
    "result_df = pd.DataFrame(result) #check if redundant"
   ]
  },
  {
   "cell_type": "code",
   "execution_count": 6,
   "id": "c6479189",
   "metadata": {},
   "outputs": [
    {
     "data": {
      "text/html": [
       "<div>\n",
       "<style scoped>\n",
       "    .dataframe tbody tr th:only-of-type {\n",
       "        vertical-align: middle;\n",
       "    }\n",
       "\n",
       "    .dataframe tbody tr th {\n",
       "        vertical-align: top;\n",
       "    }\n",
       "\n",
       "    .dataframe thead th {\n",
       "        text-align: right;\n",
       "    }\n",
       "</style>\n",
       "<table border=\"1\" class=\"dataframe\">\n",
       "  <thead>\n",
       "    <tr style=\"text-align: right;\">\n",
       "      <th></th>\n",
       "      <th>DATA</th>\n",
       "      <th>GENERE</th>\n",
       "      <th>ETA</th>\n",
       "      <th>SETTOREECONOMICODETTAGLIO</th>\n",
       "      <th>TITOLOSTUDIO</th>\n",
       "      <th>CONTRATTO</th>\n",
       "      <th>MODALITALAVORO</th>\n",
       "      <th>PROVINCIAIMPRESA</th>\n",
       "      <th>NAZIONALITA</th>\n",
       "      <th>TIPOLOGIA</th>\n",
       "    </tr>\n",
       "  </thead>\n",
       "  <tbody>\n",
       "    <tr>\n",
       "      <th>0</th>\n",
       "      <td>09/05/2020</td>\n",
       "      <td>F</td>\n",
       "      <td>60</td>\n",
       "      <td>Attività di famiglie e convivenze come datori ...</td>\n",
       "      <td>NESSUN TITOLO DI STUDIO</td>\n",
       "      <td>LAVORO DOMESTICO</td>\n",
       "      <td>TEMPO PIENO</td>\n",
       "      <td>BERGAMO</td>\n",
       "      <td>UCRAINA</td>\n",
       "      <td>ATTIVATO</td>\n",
       "    </tr>\n",
       "    <tr>\n",
       "      <th>1</th>\n",
       "      <td>12/07/2019</td>\n",
       "      <td>M</td>\n",
       "      <td>43</td>\n",
       "      <td>Gestioni di funicolari, ski-lift e seggiovie s...</td>\n",
       "      <td>LICENZA MEDIA</td>\n",
       "      <td>LAVORO A TEMPO DETERMINATO</td>\n",
       "      <td>TEMPO PIENO</td>\n",
       "      <td>BERGAMO</td>\n",
       "      <td>ITALIA</td>\n",
       "      <td>ATTIVATO</td>\n",
       "    </tr>\n",
       "    <tr>\n",
       "      <th>2</th>\n",
       "      <td>05/06/2013</td>\n",
       "      <td>F</td>\n",
       "      <td>20</td>\n",
       "      <td>Fabbricazione di altre apparecchiature elettri...</td>\n",
       "      <td>LICENZA MEDIA</td>\n",
       "      <td>APPRENDISTATO PROFESSIONALIZZANTE O CONTRATTO ...</td>\n",
       "      <td>TEMPO PIENO</td>\n",
       "      <td>BERGAMO</td>\n",
       "      <td>ITALIA</td>\n",
       "      <td>ATTIVATO</td>\n",
       "    </tr>\n",
       "    <tr>\n",
       "      <th>3</th>\n",
       "      <td>12/03/2010</td>\n",
       "      <td>F</td>\n",
       "      <td>28</td>\n",
       "      <td>Alberghi</td>\n",
       "      <td>DIPLOMA DI ISTRUZIONE SECONDARIA SUPERIORE  CH...</td>\n",
       "      <td>LAVORO INTERMITTENTE A TEMPO DETERMINATO</td>\n",
       "      <td>NON DEFINITO</td>\n",
       "      <td>BERGAMO</td>\n",
       "      <td>ITALIA</td>\n",
       "      <td>ATTIVATO</td>\n",
       "    </tr>\n",
       "    <tr>\n",
       "      <th>4</th>\n",
       "      <td>06/04/2021</td>\n",
       "      <td>F</td>\n",
       "      <td>49</td>\n",
       "      <td>Rifugi di montagna</td>\n",
       "      <td>LICENZA MEDIA</td>\n",
       "      <td>LAVORO INTERMITTENTE</td>\n",
       "      <td>NON DEFINITO</td>\n",
       "      <td>BERGAMO</td>\n",
       "      <td>ITALIA</td>\n",
       "      <td>ATTIVATO</td>\n",
       "    </tr>\n",
       "  </tbody>\n",
       "</table>\n",
       "</div>"
      ],
      "text/plain": [
       "         DATA GENERE  ETA                          SETTOREECONOMICODETTAGLIO  \\\n",
       "0  09/05/2020      F   60  Attività di famiglie e convivenze come datori ...   \n",
       "1  12/07/2019      M   43  Gestioni di funicolari, ski-lift e seggiovie s...   \n",
       "2  05/06/2013      F   20  Fabbricazione di altre apparecchiature elettri...   \n",
       "3  12/03/2010      F   28                                           Alberghi   \n",
       "4  06/04/2021      F   49                                 Rifugi di montagna   \n",
       "\n",
       "                                        TITOLOSTUDIO  \\\n",
       "0                            NESSUN TITOLO DI STUDIO   \n",
       "1                                      LICENZA MEDIA   \n",
       "2                                      LICENZA MEDIA   \n",
       "3  DIPLOMA DI ISTRUZIONE SECONDARIA SUPERIORE  CH...   \n",
       "4                                      LICENZA MEDIA   \n",
       "\n",
       "                                           CONTRATTO MODALITALAVORO  \\\n",
       "0                                   LAVORO DOMESTICO    TEMPO PIENO   \n",
       "1                         LAVORO A TEMPO DETERMINATO    TEMPO PIENO   \n",
       "2  APPRENDISTATO PROFESSIONALIZZANTE O CONTRATTO ...    TEMPO PIENO   \n",
       "3           LAVORO INTERMITTENTE A TEMPO DETERMINATO   NON DEFINITO   \n",
       "4                               LAVORO INTERMITTENTE   NON DEFINITO   \n",
       "\n",
       "  PROVINCIAIMPRESA NAZIONALITA TIPOLOGIA  \n",
       "0          BERGAMO     UCRAINA  ATTIVATO  \n",
       "1          BERGAMO      ITALIA  ATTIVATO  \n",
       "2          BERGAMO      ITALIA  ATTIVATO  \n",
       "3          BERGAMO      ITALIA  ATTIVATO  \n",
       "4          BERGAMO      ITALIA  ATTIVATO  "
      ]
     },
     "execution_count": 6,
     "metadata": {},
     "output_type": "execute_result"
    }
   ],
   "source": [
    "result_df.head()"
   ]
  },
  {
   "cell_type": "markdown",
   "id": "fb279104",
   "metadata": {},
   "source": [
    "## Feature selection"
   ]
  },
  {
   "cell_type": "code",
   "execution_count": 7,
   "id": "e3105bc9",
   "metadata": {},
   "outputs": [
    {
     "data": {
      "text/html": [
       "<div>\n",
       "<style scoped>\n",
       "    .dataframe tbody tr th:only-of-type {\n",
       "        vertical-align: middle;\n",
       "    }\n",
       "\n",
       "    .dataframe tbody tr th {\n",
       "        vertical-align: top;\n",
       "    }\n",
       "\n",
       "    .dataframe thead th {\n",
       "        text-align: right;\n",
       "    }\n",
       "</style>\n",
       "<table border=\"1\" class=\"dataframe\">\n",
       "  <thead>\n",
       "    <tr style=\"text-align: right;\">\n",
       "      <th></th>\n",
       "      <th>DATA</th>\n",
       "      <th>TITOLOSTUDIO</th>\n",
       "      <th>PROVINCIAIMPRESA</th>\n",
       "      <th>TIPOLOGIA</th>\n",
       "    </tr>\n",
       "  </thead>\n",
       "  <tbody>\n",
       "    <tr>\n",
       "      <th>0</th>\n",
       "      <td>09/05/2020</td>\n",
       "      <td>NESSUN TITOLO DI STUDIO</td>\n",
       "      <td>BERGAMO</td>\n",
       "      <td>ATTIVATO</td>\n",
       "    </tr>\n",
       "    <tr>\n",
       "      <th>1</th>\n",
       "      <td>12/07/2019</td>\n",
       "      <td>LICENZA MEDIA</td>\n",
       "      <td>BERGAMO</td>\n",
       "      <td>ATTIVATO</td>\n",
       "    </tr>\n",
       "    <tr>\n",
       "      <th>2</th>\n",
       "      <td>05/06/2013</td>\n",
       "      <td>LICENZA MEDIA</td>\n",
       "      <td>BERGAMO</td>\n",
       "      <td>ATTIVATO</td>\n",
       "    </tr>\n",
       "    <tr>\n",
       "      <th>3</th>\n",
       "      <td>12/03/2010</td>\n",
       "      <td>DIPLOMA DI ISTRUZIONE SECONDARIA SUPERIORE  CH...</td>\n",
       "      <td>BERGAMO</td>\n",
       "      <td>ATTIVATO</td>\n",
       "    </tr>\n",
       "    <tr>\n",
       "      <th>4</th>\n",
       "      <td>06/04/2021</td>\n",
       "      <td>LICENZA MEDIA</td>\n",
       "      <td>BERGAMO</td>\n",
       "      <td>ATTIVATO</td>\n",
       "    </tr>\n",
       "  </tbody>\n",
       "</table>\n",
       "</div>"
      ],
      "text/plain": [
       "         DATA                                       TITOLOSTUDIO  \\\n",
       "0  09/05/2020                            NESSUN TITOLO DI STUDIO   \n",
       "1  12/07/2019                                      LICENZA MEDIA   \n",
       "2  05/06/2013                                      LICENZA MEDIA   \n",
       "3  12/03/2010  DIPLOMA DI ISTRUZIONE SECONDARIA SUPERIORE  CH...   \n",
       "4  06/04/2021                                      LICENZA MEDIA   \n",
       "\n",
       "  PROVINCIAIMPRESA TIPOLOGIA  \n",
       "0          BERGAMO  ATTIVATO  \n",
       "1          BERGAMO  ATTIVATO  \n",
       "2          BERGAMO  ATTIVATO  \n",
       "3          BERGAMO  ATTIVATO  \n",
       "4          BERGAMO  ATTIVATO  "
      ]
     },
     "execution_count": 7,
     "metadata": {},
     "output_type": "execute_result"
    }
   ],
   "source": [
    "newDF = result_df[['DATA', 'TITOLOSTUDIO', 'PROVINCIAIMPRESA', 'TIPOLOGIA']]\n",
    "\n",
    "newDF.head()"
   ]
  },
  {
   "cell_type": "markdown",
   "id": "ecd49b23",
   "metadata": {},
   "source": [
    "## Feature splitting (YEAR)"
   ]
  },
  {
   "cell_type": "code",
   "execution_count": 8,
   "id": "e3bc015e",
   "metadata": {},
   "outputs": [],
   "source": [
    "tempDF = newDF.copy()\n",
    "tempDF['DATA'] = pd.to_datetime(tempDF['DATA'], errors = 'coerce', format='%d/%m/%Y')\n",
    "tempDF['YEAR']= tempDF['DATA'].dt.year\n",
    "tempDF['MONTH']= tempDF['DATA'].dt.month\n",
    "#2600 entry is ignored in the following plots, workaround because it exceeds representation limit\n",
    "#insert it manually, 12/11/2600 OR specify that it was removed beacuse of this"
   ]
  },
  {
   "cell_type": "code",
   "execution_count": 9,
   "id": "4bb12889",
   "metadata": {},
   "outputs": [],
   "source": [
    "newDF = tempDF[['YEAR', 'MONTH', 'TITOLOSTUDIO', 'PROVINCIAIMPRESA', 'TIPOLOGIA']].copy()"
   ]
  },
  {
   "cell_type": "code",
   "execution_count": 10,
   "id": "78407c40",
   "metadata": {
    "scrolled": true
   },
   "outputs": [
    {
     "data": {
      "text/html": [
       "<div>\n",
       "<style scoped>\n",
       "    .dataframe tbody tr th:only-of-type {\n",
       "        vertical-align: middle;\n",
       "    }\n",
       "\n",
       "    .dataframe tbody tr th {\n",
       "        vertical-align: top;\n",
       "    }\n",
       "\n",
       "    .dataframe thead th {\n",
       "        text-align: right;\n",
       "    }\n",
       "</style>\n",
       "<table border=\"1\" class=\"dataframe\">\n",
       "  <thead>\n",
       "    <tr style=\"text-align: right;\">\n",
       "      <th></th>\n",
       "      <th>YEAR</th>\n",
       "      <th>MONTH</th>\n",
       "      <th>TITOLOSTUDIO</th>\n",
       "      <th>PROVINCIAIMPRESA</th>\n",
       "      <th>TIPOLOGIA</th>\n",
       "    </tr>\n",
       "  </thead>\n",
       "  <tbody>\n",
       "    <tr>\n",
       "      <th>0</th>\n",
       "      <td>2020.0</td>\n",
       "      <td>5.0</td>\n",
       "      <td>NESSUN TITOLO DI STUDIO</td>\n",
       "      <td>BERGAMO</td>\n",
       "      <td>ATTIVATO</td>\n",
       "    </tr>\n",
       "    <tr>\n",
       "      <th>1</th>\n",
       "      <td>2019.0</td>\n",
       "      <td>7.0</td>\n",
       "      <td>LICENZA MEDIA</td>\n",
       "      <td>BERGAMO</td>\n",
       "      <td>ATTIVATO</td>\n",
       "    </tr>\n",
       "    <tr>\n",
       "      <th>2</th>\n",
       "      <td>2013.0</td>\n",
       "      <td>6.0</td>\n",
       "      <td>LICENZA MEDIA</td>\n",
       "      <td>BERGAMO</td>\n",
       "      <td>ATTIVATO</td>\n",
       "    </tr>\n",
       "    <tr>\n",
       "      <th>3</th>\n",
       "      <td>2010.0</td>\n",
       "      <td>3.0</td>\n",
       "      <td>DIPLOMA DI ISTRUZIONE SECONDARIA SUPERIORE  CH...</td>\n",
       "      <td>BERGAMO</td>\n",
       "      <td>ATTIVATO</td>\n",
       "    </tr>\n",
       "    <tr>\n",
       "      <th>4</th>\n",
       "      <td>2021.0</td>\n",
       "      <td>4.0</td>\n",
       "      <td>LICENZA MEDIA</td>\n",
       "      <td>BERGAMO</td>\n",
       "      <td>ATTIVATO</td>\n",
       "    </tr>\n",
       "  </tbody>\n",
       "</table>\n",
       "</div>"
      ],
      "text/plain": [
       "     YEAR  MONTH                                       TITOLOSTUDIO  \\\n",
       "0  2020.0    5.0                            NESSUN TITOLO DI STUDIO   \n",
       "1  2019.0    7.0                                      LICENZA MEDIA   \n",
       "2  2013.0    6.0                                      LICENZA MEDIA   \n",
       "3  2010.0    3.0  DIPLOMA DI ISTRUZIONE SECONDARIA SUPERIORE  CH...   \n",
       "4  2021.0    4.0                                      LICENZA MEDIA   \n",
       "\n",
       "  PROVINCIAIMPRESA TIPOLOGIA  \n",
       "0          BERGAMO  ATTIVATO  \n",
       "1          BERGAMO  ATTIVATO  \n",
       "2          BERGAMO  ATTIVATO  \n",
       "3          BERGAMO  ATTIVATO  \n",
       "4          BERGAMO  ATTIVATO  "
      ]
     },
     "execution_count": 10,
     "metadata": {},
     "output_type": "execute_result"
    }
   ],
   "source": [
    "newDF.head()"
   ]
  },
  {
   "cell_type": "markdown",
   "id": "3c987cc6",
   "metadata": {},
   "source": [
    "## NaN detection and management"
   ]
  },
  {
   "cell_type": "code",
   "execution_count": 11,
   "id": "4f78b00c",
   "metadata": {},
   "outputs": [
    {
     "name": "stdout",
     "output_type": "stream",
     "text": [
      "Null Values Count for each feature in Activated\n",
      "YEAR                   1\n",
      "MONTH                  1\n",
      "TITOLOSTUDIO        1020\n",
      "PROVINCIAIMPRESA       0\n",
      "TIPOLOGIA              0\n",
      "dtype: int64\n"
     ]
    }
   ],
   "source": [
    "print('Null Values Count for each feature in Activated')\n",
    "print(newDF.isnull().sum())"
   ]
  },
  {
   "cell_type": "code",
   "execution_count": 12,
   "id": "0c0edde4",
   "metadata": {},
   "outputs": [
    {
     "name": "stdout",
     "output_type": "stream",
     "text": [
      "YEAR                13321187\n",
      "MONTH               13321187\n",
      "TITOLOSTUDIO        13320168\n",
      "PROVINCIAIMPRESA    13321188\n",
      "TIPOLOGIA           13321188\n",
      "dtype: int64\n"
     ]
    }
   ],
   "source": [
    "print(newDF.count())"
   ]
  },
  {
   "cell_type": "code",
   "execution_count": 13,
   "id": "31798475",
   "metadata": {
    "scrolled": true
   },
   "outputs": [
    {
     "name": "stdout",
     "output_type": "stream",
     "text": [
      "YEAR                0\n",
      "MONTH               0\n",
      "TITOLOSTUDIO        0\n",
      "PROVINCIAIMPRESA    0\n",
      "TIPOLOGIA           0\n",
      "dtype: int64\n"
     ]
    }
   ],
   "source": [
    "newDF = newDF.dropna()\n",
    "print(newDF.isnull().sum())"
   ]
  },
  {
   "cell_type": "markdown",
   "id": "e66a75ec",
   "metadata": {},
   "source": [
    "## Outlier detection and management"
   ]
  },
  {
   "cell_type": "code",
   "execution_count": 14,
   "id": "7752c7ed",
   "metadata": {},
   "outputs": [
    {
     "data": {
      "image/png": "[encoded data removed]",
      "text/plain": [
       "<Figure size 1080x576 with 1 Axes>"
      ]
     },
     "metadata": {
      "needs_background": "light"
     },
     "output_type": "display_data"
    }
   ],
   "source": [
    "## Check outliers\n",
    "ax = sb.boxplot(x=newDF['YEAR'], y=[\"\"]*len(newDF), hue=newDF['TIPOLOGIA'])\n",
    "# Workaround cause bug, y needs to be filled with dummy data\n",
    "ax.set_title(\"Boxplot on Year\")\n",
    "plt.gcf().set_size_inches(15, 8)\n",
    "plt.show()\n",
    "# TODO: add description of bloxplot (outliers because of impossible year value)"
   ]
  },
  {
   "cell_type": "code",
   "execution_count": 17,
   "id": "bcd3184f",
   "metadata": {},
   "outputs": [],
   "source": [
    "#calculating Q1 and Q3 and boxplot\n",
    "cols = ['YEAR'] # one or more\n",
    "\n",
    "Q1 = newDF[cols].quantile(0.25)\n",
    "Q3 = newDF[cols].quantile(0.75)\n",
    "IQR = Q3 - Q1"
   ]
  },
  {
   "cell_type": "code",
   "execution_count": 18,
   "id": "c375947d",
   "metadata": {},
   "outputs": [
    {
     "name": "stdout",
     "output_type": "stream",
     "text": [
      "1588\n",
      "1\n"
     ]
    }
   ],
   "source": [
    "print(len(newDF[newDF['YEAR'] < int(Q1 - 1.5 * IQR)]))\n",
    "print(len(newDF[newDF['YEAR'] > int(Q3 + 1.5 * IQR)]))"
   ]
  },
  {
   "cell_type": "code",
   "execution_count": 19,
   "id": "75316228",
   "metadata": {},
   "outputs": [],
   "source": [
    "newDF = newDF[~((newDF[cols] < (Q1 - 1.5 * IQR)) |(newDF[cols] > (Q3 + 1.5 * IQR))).any(axis=1)]"
   ]
  },
  {
   "cell_type": "code",
   "execution_count": 20,
   "id": "6354d550",
   "metadata": {},
   "outputs": [
    {
     "data": {
      "image/png": "[encoded data removed]",
      "text/plain": [
       "<Figure size 1080x576 with 1 Axes>"
      ]
     },
     "metadata": {
      "needs_background": "light"
     },
     "output_type": "display_data"
    }
   ],
   "source": [
    "## Check outliers\n",
    "ax = sb.boxplot(x=newDF['YEAR'], y=[\"\"]*len(newDF), hue=newDF['TIPOLOGIA'])\n",
    "# Workaround cause bug, y needs to be filled with dummy data\n",
    "ax.set_title(\"Boxplot on Year\")\n",
    "plt.gcf().set_size_inches(15, 8)\n",
    "plt.show()\n",
    "# TODO: add description of bloxplot (outliers because of impossible year value)"
   ]
  },
  {
   "cell_type": "markdown",
   "id": "abe48295",
   "metadata": {},
   "source": [
    "## Feature encoding"
   ]
  },
  {
   "cell_type": "code",
   "execution_count": 21,
   "id": "46a4d078",
   "metadata": {},
   "outputs": [],
   "source": [
    "enc = preprocessing.OrdinalEncoder()\n",
    "enc.fit(newDF[['TITOLOSTUDIO','PROVINCIAIMPRESA', 'TIPOLOGIA']])\n",
    "newDF[['TITOLOSTUDIO','PROVINCIAIMPRESA', 'TIPOLOGIA']] = enc.transform(newDF[['TITOLOSTUDIO','PROVINCIAIMPRESA', 'TIPOLOGIA']])"
   ]
  },
  {
   "cell_type": "code",
   "execution_count": 22,
   "id": "833dd9e2",
   "metadata": {},
   "outputs": [
    {
     "data": {
      "text/html": [
       "<div>\n",
       "<style scoped>\n",
       "    .dataframe tbody tr th:only-of-type {\n",
       "        vertical-align: middle;\n",
       "    }\n",
       "\n",
       "    .dataframe tbody tr th {\n",
       "        vertical-align: top;\n",
       "    }\n",
       "\n",
       "    .dataframe thead th {\n",
       "        text-align: right;\n",
       "    }\n",
       "</style>\n",
       "<table border=\"1\" class=\"dataframe\">\n",
       "  <thead>\n",
       "    <tr style=\"text-align: right;\">\n",
       "      <th></th>\n",
       "      <th>YEAR</th>\n",
       "      <th>MONTH</th>\n",
       "      <th>TITOLOSTUDIO</th>\n",
       "      <th>PROVINCIAIMPRESA</th>\n",
       "      <th>TIPOLOGIA</th>\n",
       "    </tr>\n",
       "  </thead>\n",
       "  <tbody>\n",
       "    <tr>\n",
       "      <th>count</th>\n",
       "      <td>1.331858e+07</td>\n",
       "      <td>1.331858e+07</td>\n",
       "      <td>1.331858e+07</td>\n",
       "      <td>1.331858e+07</td>\n",
       "      <td>1.331858e+07</td>\n",
       "    </tr>\n",
       "    <tr>\n",
       "      <th>mean</th>\n",
       "      <td>2.015102e+03</td>\n",
       "      <td>6.392226e+00</td>\n",
       "      <td>5.192938e+00</td>\n",
       "      <td>5.624495e+00</td>\n",
       "      <td>2.807670e-01</td>\n",
       "    </tr>\n",
       "    <tr>\n",
       "      <th>std</th>\n",
       "      <td>3.588222e+00</td>\n",
       "      <td>3.458480e+00</td>\n",
       "      <td>3.324619e+00</td>\n",
       "      <td>3.133814e+00</td>\n",
       "      <td>4.493739e-01</td>\n",
       "    </tr>\n",
       "    <tr>\n",
       "      <th>min</th>\n",
       "      <td>2.003000e+03</td>\n",
       "      <td>1.000000e+00</td>\n",
       "      <td>0.000000e+00</td>\n",
       "      <td>0.000000e+00</td>\n",
       "      <td>0.000000e+00</td>\n",
       "    </tr>\n",
       "    <tr>\n",
       "      <th>25%</th>\n",
       "      <td>2.012000e+03</td>\n",
       "      <td>3.000000e+00</td>\n",
       "      <td>3.000000e+00</td>\n",
       "      <td>2.000000e+00</td>\n",
       "      <td>0.000000e+00</td>\n",
       "    </tr>\n",
       "    <tr>\n",
       "      <th>50%</th>\n",
       "      <td>2.015000e+03</td>\n",
       "      <td>6.000000e+00</td>\n",
       "      <td>6.000000e+00</td>\n",
       "      <td>7.000000e+00</td>\n",
       "      <td>0.000000e+00</td>\n",
       "    </tr>\n",
       "    <tr>\n",
       "      <th>75%</th>\n",
       "      <td>2.018000e+03</td>\n",
       "      <td>9.000000e+00</td>\n",
       "      <td>8.000000e+00</td>\n",
       "      <td>7.000000e+00</td>\n",
       "      <td>1.000000e+00</td>\n",
       "    </tr>\n",
       "    <tr>\n",
       "      <th>max</th>\n",
       "      <td>2.021000e+03</td>\n",
       "      <td>1.200000e+01</td>\n",
       "      <td>1.100000e+01</td>\n",
       "      <td>1.100000e+01</td>\n",
       "      <td>1.000000e+00</td>\n",
       "    </tr>\n",
       "  </tbody>\n",
       "</table>\n",
       "</div>"
      ],
      "text/plain": [
       "               YEAR         MONTH  TITOLOSTUDIO  PROVINCIAIMPRESA  \\\n",
       "count  1.331858e+07  1.331858e+07  1.331858e+07      1.331858e+07   \n",
       "mean   2.015102e+03  6.392226e+00  5.192938e+00      5.624495e+00   \n",
       "std    3.588222e+00  3.458480e+00  3.324619e+00      3.133814e+00   \n",
       "min    2.003000e+03  1.000000e+00  0.000000e+00      0.000000e+00   \n",
       "25%    2.012000e+03  3.000000e+00  3.000000e+00      2.000000e+00   \n",
       "50%    2.015000e+03  6.000000e+00  6.000000e+00      7.000000e+00   \n",
       "75%    2.018000e+03  9.000000e+00  8.000000e+00      7.000000e+00   \n",
       "max    2.021000e+03  1.200000e+01  1.100000e+01      1.100000e+01   \n",
       "\n",
       "          TIPOLOGIA  \n",
       "count  1.331858e+07  \n",
       "mean   2.807670e-01  \n",
       "std    4.493739e-01  \n",
       "min    0.000000e+00  \n",
       "25%    0.000000e+00  \n",
       "50%    0.000000e+00  \n",
       "75%    1.000000e+00  \n",
       "max    1.000000e+00  "
      ]
     },
     "execution_count": 22,
     "metadata": {},
     "output_type": "execute_result"
    }
   ],
   "source": [
    "newDF.describe()"
   ]
  },
  {
   "cell_type": "code",
   "execution_count": 23,
   "id": "81075c4a",
   "metadata": {},
   "outputs": [
    {
     "data": {
      "text/html": [
       "<div>\n",
       "<style scoped>\n",
       "    .dataframe tbody tr th:only-of-type {\n",
       "        vertical-align: middle;\n",
       "    }\n",
       "\n",
       "    .dataframe tbody tr th {\n",
       "        vertical-align: top;\n",
       "    }\n",
       "\n",
       "    .dataframe thead th {\n",
       "        text-align: right;\n",
       "    }\n",
       "</style>\n",
       "<table border=\"1\" class=\"dataframe\">\n",
       "  <thead>\n",
       "    <tr style=\"text-align: right;\">\n",
       "      <th></th>\n",
       "      <th>YEAR</th>\n",
       "      <th>MONTH</th>\n",
       "      <th>TITOLOSTUDIO</th>\n",
       "      <th>PROVINCIAIMPRESA</th>\n",
       "      <th>TIPOLOGIA</th>\n",
       "    </tr>\n",
       "  </thead>\n",
       "  <tbody>\n",
       "    <tr>\n",
       "      <th>0</th>\n",
       "      <td>2020.0</td>\n",
       "      <td>5.0</td>\n",
       "      <td>8.0</td>\n",
       "      <td>0.0</td>\n",
       "      <td>0.0</td>\n",
       "    </tr>\n",
       "    <tr>\n",
       "      <th>1</th>\n",
       "      <td>2019.0</td>\n",
       "      <td>7.0</td>\n",
       "      <td>6.0</td>\n",
       "      <td>0.0</td>\n",
       "      <td>0.0</td>\n",
       "    </tr>\n",
       "    <tr>\n",
       "      <th>2</th>\n",
       "      <td>2013.0</td>\n",
       "      <td>6.0</td>\n",
       "      <td>6.0</td>\n",
       "      <td>0.0</td>\n",
       "      <td>0.0</td>\n",
       "    </tr>\n",
       "    <tr>\n",
       "      <th>3</th>\n",
       "      <td>2010.0</td>\n",
       "      <td>3.0</td>\n",
       "      <td>0.0</td>\n",
       "      <td>0.0</td>\n",
       "      <td>0.0</td>\n",
       "    </tr>\n",
       "    <tr>\n",
       "      <th>4</th>\n",
       "      <td>2021.0</td>\n",
       "      <td>4.0</td>\n",
       "      <td>6.0</td>\n",
       "      <td>0.0</td>\n",
       "      <td>0.0</td>\n",
       "    </tr>\n",
       "  </tbody>\n",
       "</table>\n",
       "</div>"
      ],
      "text/plain": [
       "     YEAR  MONTH  TITOLOSTUDIO  PROVINCIAIMPRESA  TIPOLOGIA\n",
       "0  2020.0    5.0           8.0               0.0        0.0\n",
       "1  2019.0    7.0           6.0               0.0        0.0\n",
       "2  2013.0    6.0           6.0               0.0        0.0\n",
       "3  2010.0    3.0           0.0               0.0        0.0\n",
       "4  2021.0    4.0           6.0               0.0        0.0"
      ]
     },
     "execution_count": 23,
     "metadata": {},
     "output_type": "execute_result"
    }
   ],
   "source": [
    "newDF.head()"
   ]
  },
  {
   "cell_type": "code",
   "execution_count": 24,
   "id": "42641776",
   "metadata": {},
   "outputs": [
    {
     "data": {
      "text/html": [
       "<div>\n",
       "<style scoped>\n",
       "    .dataframe tbody tr th:only-of-type {\n",
       "        vertical-align: middle;\n",
       "    }\n",
       "\n",
       "    .dataframe tbody tr th {\n",
       "        vertical-align: top;\n",
       "    }\n",
       "\n",
       "    .dataframe thead th {\n",
       "        text-align: right;\n",
       "    }\n",
       "</style>\n",
       "<table border=\"1\" class=\"dataframe\">\n",
       "  <thead>\n",
       "    <tr style=\"text-align: right;\">\n",
       "      <th></th>\n",
       "      <th>YEAR</th>\n",
       "      <th>MONTH</th>\n",
       "      <th>TITOLOSTUDIO</th>\n",
       "      <th>PROVINCIAIMPRESA</th>\n",
       "      <th>TIPOLOGIA</th>\n",
       "    </tr>\n",
       "  </thead>\n",
       "  <tbody>\n",
       "    <tr>\n",
       "      <th>count</th>\n",
       "      <td>1.331858e+07</td>\n",
       "      <td>1.331858e+07</td>\n",
       "      <td>1.331858e+07</td>\n",
       "      <td>1.331858e+07</td>\n",
       "      <td>1.331858e+07</td>\n",
       "    </tr>\n",
       "    <tr>\n",
       "      <th>mean</th>\n",
       "      <td>2.015102e+03</td>\n",
       "      <td>6.392226e+00</td>\n",
       "      <td>5.192938e+00</td>\n",
       "      <td>5.624495e+00</td>\n",
       "      <td>2.807670e-01</td>\n",
       "    </tr>\n",
       "    <tr>\n",
       "      <th>std</th>\n",
       "      <td>3.588222e+00</td>\n",
       "      <td>3.458480e+00</td>\n",
       "      <td>3.324619e+00</td>\n",
       "      <td>3.133814e+00</td>\n",
       "      <td>4.493739e-01</td>\n",
       "    </tr>\n",
       "    <tr>\n",
       "      <th>min</th>\n",
       "      <td>2.003000e+03</td>\n",
       "      <td>1.000000e+00</td>\n",
       "      <td>0.000000e+00</td>\n",
       "      <td>0.000000e+00</td>\n",
       "      <td>0.000000e+00</td>\n",
       "    </tr>\n",
       "    <tr>\n",
       "      <th>25%</th>\n",
       "      <td>2.012000e+03</td>\n",
       "      <td>3.000000e+00</td>\n",
       "      <td>3.000000e+00</td>\n",
       "      <td>2.000000e+00</td>\n",
       "      <td>0.000000e+00</td>\n",
       "    </tr>\n",
       "    <tr>\n",
       "      <th>50%</th>\n",
       "      <td>2.015000e+03</td>\n",
       "      <td>6.000000e+00</td>\n",
       "      <td>6.000000e+00</td>\n",
       "      <td>7.000000e+00</td>\n",
       "      <td>0.000000e+00</td>\n",
       "    </tr>\n",
       "    <tr>\n",
       "      <th>75%</th>\n",
       "      <td>2.018000e+03</td>\n",
       "      <td>9.000000e+00</td>\n",
       "      <td>8.000000e+00</td>\n",
       "      <td>7.000000e+00</td>\n",
       "      <td>1.000000e+00</td>\n",
       "    </tr>\n",
       "    <tr>\n",
       "      <th>max</th>\n",
       "      <td>2.021000e+03</td>\n",
       "      <td>1.200000e+01</td>\n",
       "      <td>1.100000e+01</td>\n",
       "      <td>1.100000e+01</td>\n",
       "      <td>1.000000e+00</td>\n",
       "    </tr>\n",
       "  </tbody>\n",
       "</table>\n",
       "</div>"
      ],
      "text/plain": [
       "               YEAR         MONTH  TITOLOSTUDIO  PROVINCIAIMPRESA  \\\n",
       "count  1.331858e+07  1.331858e+07  1.331858e+07      1.331858e+07   \n",
       "mean   2.015102e+03  6.392226e+00  5.192938e+00      5.624495e+00   \n",
       "std    3.588222e+00  3.458480e+00  3.324619e+00      3.133814e+00   \n",
       "min    2.003000e+03  1.000000e+00  0.000000e+00      0.000000e+00   \n",
       "25%    2.012000e+03  3.000000e+00  3.000000e+00      2.000000e+00   \n",
       "50%    2.015000e+03  6.000000e+00  6.000000e+00      7.000000e+00   \n",
       "75%    2.018000e+03  9.000000e+00  8.000000e+00      7.000000e+00   \n",
       "max    2.021000e+03  1.200000e+01  1.100000e+01      1.100000e+01   \n",
       "\n",
       "          TIPOLOGIA  \n",
       "count  1.331858e+07  \n",
       "mean   2.807670e-01  \n",
       "std    4.493739e-01  \n",
       "min    0.000000e+00  \n",
       "25%    0.000000e+00  \n",
       "50%    0.000000e+00  \n",
       "75%    1.000000e+00  \n",
       "max    1.000000e+00  "
      ]
     },
     "execution_count": 24,
     "metadata": {},
     "output_type": "execute_result"
    }
   ],
   "source": [
    "newDF.describe()"
   ]
  }
 ],
 "metadata": {
  "kernelspec": {
   "display_name": "Python 3 (ipykernel)",
   "language": "python",
   "name": "python3"
  },
  "language_info": {
   "codemirror_mode": {
    "name": "ipython",
    "version": 3
   },
   "file_extension": ".py",
   "mimetype": "text/x-python",
   "name": "python",
   "nbconvert_exporter": "python",
   "pygments_lexer": "ipython3",
   "version": "3.9.7"
  }
 },
 "nbformat": 4,
 "nbformat_minor": 5
}
