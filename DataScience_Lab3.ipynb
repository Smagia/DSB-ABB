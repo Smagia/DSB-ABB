{
 "cells": [
  {
   "cell_type": "markdown",
   "id": "c6c13a65",
   "metadata": {},
   "source": [
    "# Lab 3"
   ]
  },
  {
   "cell_type": "markdown",
   "id": "0d218686",
   "metadata": {},
   "source": [
    "## The main question"
   ]
  },
  {
   "cell_type": "markdown",
   "id": "0e50bf3d",
   "metadata": {},
   "source": [
    "The datasets chosen for this laboratory project concern activated and terminated employment contracts in Lombardy. \n",
    "The goal is to get a prevision on the number of activated and terminated contracts based on parameters such date, educational qualification and geographical area. In this way it is possible to get an overwiew about the labour market based on the input data."
   ]
  },
  {
   "cell_type": "markdown",
   "id": "202a2b8c",
   "metadata": {},
   "source": [
    "## Imports"
   ]
  },
  {
   "cell_type": "code",
   "execution_count": 1,
   "id": "f1604cf2",
   "metadata": {
    "scrolled": true
   },
   "outputs": [],
   "source": [
    "import pandas as pd\n",
    "import seaborn as sb\n",
    "import matplotlib.pyplot as plt\n",
    "from sklearn import preprocessing\n",
    "from datetime import datetime\n",
    "from sklearn.tree import DecisionTreeRegressor \n",
    "from sklearn.model_selection import train_test_split"
   ]
  },
  {
   "cell_type": "markdown",
   "id": "bcac633d",
   "metadata": {},
   "source": [
    "## Datasets Analysis"
   ]
  },
  {
   "cell_type": "markdown",
   "id": "9851300f",
   "metadata": {},
   "source": [
    "The considered datasets are available on the Lombardy Region website at the following links:\n",
    "\n",
    "[__Activated contracts__](https://www.dati.lombardia.it/Attivit-Produttive/Rapporti-di-lavoro-attivati/qbau-cyuc)\n",
    "\n",
    "[__Terminated contracts__](https://www.dati.lombardia.it/Attivit-Produttive/Rapporti-di-lavoro-cessati/nwz3-p6vm)"
   ]
  },
  {
   "cell_type": "markdown",
   "id": "8ebf016d",
   "metadata": {},
   "source": [
    "### Datasets overview"
   ]
  },
  {
   "cell_type": "code",
   "execution_count": 2,
   "id": "5037acb8",
   "metadata": {},
   "outputs": [],
   "source": [
    "# Loading and showing the first dataset\n",
    "activated_work = pd.read_csv(\"Rapporti_di_lavoro_attivati.csv\")\n",
    "# Loading and showing the second dataset\n",
    "terminated_work = pd.read_csv(\"Rapporti_di_lavoro_cessati.csv\")"
   ]
  },
  {
   "cell_type": "code",
   "execution_count": 3,
   "id": "fd6d4261",
   "metadata": {},
   "outputs": [],
   "source": [
    "activated_work.rename(columns={'ITALIANO':'NAZIONALITA'}, inplace=True)\n",
    "terminated_work.rename(columns={'ITALIANO':'NAZIONALITA'}, inplace=True)\n",
    "activated_work['TIPOLOGIA'] = 'ATTIVATO'\n",
    "terminated_work['TIPOLOGIA'] = 'TERMINATO'\n",
    "total = [activated_work, terminated_work]\n",
    "result = pd.concat(total)\n",
    "result_df = pd.DataFrame(result) #check if redundant\n",
    "newDF = result_df[['DATA', 'TITOLOSTUDIO', 'PROVINCIAIMPRESA', 'TIPOLOGIA']]\n",
    "tempDF = newDF.copy()\n",
    "tempDF['DATA'] = pd.to_datetime(tempDF['DATA'], errors = 'coerce', format='%d/%m/%Y')\n",
    "tempDF['YEAR']= tempDF['DATA'].dt.year\n",
    "tempDF['MONTH']= tempDF['DATA'].dt.month\n",
    "newDF = tempDF[['YEAR', 'MONTH', 'TITOLOSTUDIO', 'PROVINCIAIMPRESA', 'TIPOLOGIA']].copy()\n",
    "newDF = newDF.dropna()"
   ]
  },
  {
   "cell_type": "code",
   "execution_count": 4,
   "id": "2d124a9a",
   "metadata": {
    "scrolled": true
   },
   "outputs": [],
   "source": [
    "enc = preprocessing.OrdinalEncoder()\n",
    "enc.fit(newDF[['TITOLOSTUDIO','PROVINCIAIMPRESA', 'TIPOLOGIA']])\n",
    "newDF[['TITOLOSTUDIO','PROVINCIAIMPRESA', 'TIPOLOGIA']] = enc.transform(newDF[['TITOLOSTUDIO','PROVINCIAIMPRESA', 'TIPOLOGIA']])"
   ]
  },
  {
   "cell_type": "markdown",
   "id": "e8c8e77e",
   "metadata": {},
   "source": [
    "## Model"
   ]
  },
  {
   "cell_type": "code",
   "execution_count": 5,
   "id": "e1bbd005",
   "metadata": {},
   "outputs": [],
   "source": [
    "from sklearn.tree import DecisionTreeRegressor \n",
    "from sklearn.model_selection import train_test_split\n",
    "from sklearn.ensemble import RandomForestRegressor\n",
    "from sklearn.metrics import mean_squared_error"
   ]
  },
  {
   "cell_type": "code",
   "execution_count": 6,
   "id": "e295621a",
   "metadata": {},
   "outputs": [
    {
     "name": "stdout",
     "output_type": "stream",
     "text": [
      "MSE: 0.04147139847380138\n"
     ]
    }
   ],
   "source": [
    "## Model\n",
    "DFCompleted = newDF.groupby(['YEAR', 'MONTH', 'TITOLOSTUDIO', 'PROVINCIAIMPRESA', 'TIPOLOGIA']).size().reset_index(name='SUM')\n",
    "\n",
    "DFCompleted['TEST'] = DFCompleted['TIPOLOGIA']  * DFCompleted['SUM']\n",
    "\n",
    "DFCompleted.head()\n",
    "\n",
    "asdasdasd = DFCompleted[['YEAR', 'MONTH', 'TITOLOSTUDIO', 'PROVINCIAIMPRESA', 'SUM', 'TEST']]\n",
    "\n",
    "asdasdasd = asdasdasd.groupby(['YEAR', 'MONTH', 'TITOLOSTUDIO', 'PROVINCIAIMPRESA']).sum().reset_index()\n",
    "\n",
    "asdasdasd.describe()\n",
    "\n",
    "asdasdasd['TEST'] = asdasdasd['TEST']  / asdasdasd['SUM']\n",
    "\n",
    "asdasdasd.describe()\n",
    "\n",
    "#Creating the features dataset and the temperature dataset\n",
    "training = asdasdasd[['YEAR', 'MONTH', 'TITOLOSTUDIO', 'PROVINCIAIMPRESA']]\n",
    "results = asdasdasd['TEST']\n",
    "\n",
    "#Creating training and validation dataset\n",
    "train_X, val_X, train_y, val_y = train_test_split(training, results, random_state = 0)\n",
    "\n",
    "\n",
    "\n",
    "regressor = RandomForestRegressor(max_depth=2, random_state=0)\n",
    "\n",
    "regressor.fit(train_X, train_y)\n",
    "\n",
    "pred_y = regressor.predict(val_X)\n",
    "\n",
    "print(\"MSE: \"+str(mean_squared_error(val_y, pred_y)))"
   ]
  },
  {
   "cell_type": "code",
   "execution_count": 7,
   "id": "a6be8941",
   "metadata": {},
   "outputs": [],
   "source": [
    "def plotDataForYear(year, studyTitle, location):\n",
    "    lst = []\n",
    "\n",
    "    for month in range(1, 13):\n",
    "        predictedValue = regressor.predict([[year, month, studyTitle, location]])\n",
    "        lst.append([month, predictedValue[0]])\n",
    "\n",
    "    df = pd.DataFrame(lst, columns = ['Month', 'Result'])\n",
    "    print(df)\n",
    "    ax = sb.lineplot(x = \"Month\", y = \"Result\", data = df);\n",
    "    ax.set_title(\"Contracts in \"+str(year)+ \" for \", fontsize = 20)\n",
    "    plt.show()"
   ]
  },
  {
   "cell_type": "code",
   "execution_count": 8,
   "id": "250a5175",
   "metadata": {},
   "outputs": [
    {
     "name": "stdout",
     "output_type": "stream",
     "text": [
      "    Month    Result\n",
      "0       1  0.378603\n",
      "1       2  0.378603\n",
      "2       3  0.378603\n",
      "3       4  0.377231\n",
      "4       5  0.253414\n",
      "5       6  0.253414\n",
      "6       7  0.253414\n",
      "7       8  0.253414\n",
      "8       9  0.253414\n",
      "9      10  0.253414\n",
      "10     11  0.253414\n",
      "11     12  0.253414\n"
     ]
    },
    {
     "data": {
      "image/png": "[encoded data removed]",
      "text/plain": [
       "<Figure size 432x288 with 1 Axes>"
      ]
     },
     "metadata": {
      "needs_background": "light"
     },
     "output_type": "display_data"
    }
   ],
   "source": [
    "plotDataForYear(2020, 8, 8)"
   ]
  },
  {
   "cell_type": "code",
   "execution_count": 9,
   "id": "a8f770a1",
   "metadata": {},
   "outputs": [
    {
     "name": "stdout",
     "output_type": "stream",
     "text": [
      "    Month    Result\n",
      "0       1  0.851387\n",
      "1       2  0.851387\n",
      "2       3  0.851387\n",
      "3       4  0.851387\n",
      "4       5  0.851387\n",
      "5       6  0.851387\n",
      "6       7  0.851387\n",
      "7       8  0.851387\n",
      "8       9  0.851387\n",
      "9      10  0.851387\n",
      "10     11  0.851387\n",
      "11     12  0.851387\n"
     ]
    },
    {
     "data": {
      "image/png": "[encoded data removed]",
      "text/plain": [
       "<Figure size 432x288 with 1 Axes>"
      ]
     },
     "metadata": {
      "needs_background": "light"
     },
     "output_type": "display_data"
    }
   ],
   "source": [
    "plotDataForYear(1990, 8, 8)"
   ]
  }
 ],
 "metadata": {
  "kernelspec": {
   "display_name": "Python 3",
   "language": "python",
   "name": "python3"
  },
  "language_info": {
   "codemirror_mode": {
    "name": "ipython",
    "version": 3
   },
   "file_extension": ".py",
   "mimetype": "text/x-python",
   "name": "python",
   "nbconvert_exporter": "python",
   "pygments_lexer": "ipython3",
   "version": "3.9.1"
  }
 },
 "nbformat": 4,
 "nbformat_minor": 5
}
